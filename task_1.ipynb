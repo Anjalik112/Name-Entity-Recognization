{
 "cells": [
  {
   "cell_type": "code",
   "execution_count": 1,
   "id": "0a843d74",
   "metadata": {},
   "outputs": [],
   "source": [
    "import os\n",
    "import re"
   ]
  },
  {
   "cell_type": "code",
   "execution_count": 2,
   "id": "c9dc72e9",
   "metadata": {},
   "outputs": [],
   "source": [
    "ANNOTATIONS_DIR = '/Users/anjalikulkarni/Desktop/Assignment1/CADEC-lPWNPfjE-/data/cadec/original'"
   ]
  },
  {
   "cell_type": "code",
   "execution_count": 3,
   "id": "b51f9c27",
   "metadata": {
    "lines_to_next_cell": 1
   },
   "outputs": [],
   "source": [
    "LABELS = (\"ADR\", \"Drug\", \"Disease\", \"Symptom\")\n",
    "label_entities = {k: set() for k in LABELS}"
   ]
  },
  {
   "cell_type": "code",
   "execution_count": 4,
   "id": "7bca8678",
   "metadata": {
    "lines_to_next_cell": 1
   },
   "outputs": [],
   "source": [
    "def normalize(text: str) -> str:\n",
    "    # normalize entity surface form a bit\n",
    "    t = text.strip().lower()\n",
    "    t = re.sub(r'\\s+', ' ', t)           # collapse whitespace\n",
    "    t = t.strip(' .,:;!?()[]{}\"\\'')      # trim punctuation at ends\n",
    "    return t"
   ]
  },
  {
   "cell_type": "code",
   "execution_count": 5,
   "id": "65463184",
   "metadata": {
    "lines_to_next_cell": 1
   },
   "outputs": [],
   "source": [
    "def collect_entities(dirpath: str):\n",
    "    files = [f for f in os.listdir(dirpath) if f.endswith('.ann')]\n",
    "    if not files:\n",
    "        print(\"No .ann files found. Is the path correct?\")\n",
    "        return\n",
    "\n",
    "    for fname in files:\n",
    "        fpath = os.path.join(dirpath, fname)\n",
    "        with open(fpath, 'r', encoding='utf-8') as fh:\n",
    "            for line in fh:\n",
    "                line = line.rstrip('\\n')\n",
    "                if not line or line[0] in {'#', 'A', 'R'}:\n",
    "                    # comments / annotator notes / attributes / relations → skip\n",
    "                    continue\n",
    "                if not line.startswith('T'):\n",
    "                    continue  # only entity lines carry text spans\n",
    "\n",
    "                # BRAT format: ID \\t TYPE + SPAN(S) \\t TEXT\n",
    "                parts = line.split('\\t')\n",
    "                if len(parts) < 3:\n",
    "                    continue  # malformed\n",
    "\n",
    "                meta = parts[1]              # e.g. \"ADR 9 19\" or \"ADR 9 19;25 30\"\n",
    "                text = parts[2]              # entity surface text from the post\n",
    "                label = meta.split()[0]      # first token is the label\n",
    "\n",
    "                if label in label_entities:\n",
    "                    label_entities[label].add(normalize(text))"
   ]
  },
  {
   "cell_type": "code",
   "execution_count": 6,
   "id": "c112f0f4",
   "metadata": {},
   "outputs": [],
   "source": [
    "collect_entities(ANNOTATIONS_DIR)"
   ]
  },
  {
   "cell_type": "code",
   "execution_count": 7,
   "id": "d3573640",
   "metadata": {},
   "outputs": [
    {
     "name": "stdout",
     "output_type": "stream",
     "text": [
      "Label: ADR\n",
      "Distinct Entities: 3399\n",
      "Sample (up to 10): ['2-3 periods a month instead of once a month', '5-6 times at night to pee; normally 1 or 2', 'a lot grouchier', 'abdominal cramping', 'abdominal cramps', 'abdominal cramps and pain', 'abdominal discomfort', 'abdominal distention - feel full', 'abdominal flu symptoms', 'abdominal gas']\n",
      "============================================================\n",
      "Label: Drug\n",
      "Distinct Entities: 323\n",
      "Sample (up to 10): ['acidophilous', 'aciphex', 'actose', 'advicor', 'advil', 'aleve', 'allegra', 'alleve', 'alpha lipoic acid', 'alpha lipoid acid']\n",
      "============================================================\n",
      "Label: Disease\n",
      "Distinct Entities: 164\n",
      "Sample (up to 10): ['abdominal hematoma', 'acute gastritis', 'acute shoulder tendonitis', 'adenomyosis', 'allergy', 'als', 'alzheimers', 'amyotrophic lateral sclerosis', 'anemia', 'arch problem']\n",
      "============================================================\n",
      "Label: Symptom\n",
      "Distinct Entities: 148\n",
      "Sample (up to 10): ['abdominal pain', 'abortion', 'ache', 'aches', 'aches and pains', 'achiness', 'acid reflux', 'afterpain', 'agony', 'anxiety']\n",
      "============================================================\n"
     ]
    }
   ],
   "source": [
    "for label, ents in label_entities.items():\n",
    "    print(f\"Label: {label}\")\n",
    "    print(f\"Distinct Entities: {len(ents)}\")\n",
    "    print(f\"Sample (up to 10): {sorted(list(ents))[:10]}\")\n",
    "    print(\"=\" * 60)"
   ]
  }
 ],
 "metadata": {
  "jupytext": {
   "cell_metadata_filter": "-all",
   "main_language": "python",
   "notebook_metadata_filter": "-all"
  },
  "kernelspec": {
   "display_name": "py311",
   "language": "python",
   "name": "python3"
  },
  "language_info": {
   "codemirror_mode": {
    "name": "ipython",
    "version": 3
   },
   "file_extension": ".py",
   "mimetype": "text/x-python",
   "name": "python",
   "nbconvert_exporter": "python",
   "pygments_lexer": "ipython3",
   "version": "3.11.11"
  }
 },
 "nbformat": 4,
 "nbformat_minor": 5
}
